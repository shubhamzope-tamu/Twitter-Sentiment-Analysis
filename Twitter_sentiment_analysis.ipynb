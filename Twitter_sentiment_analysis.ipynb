{
  "nbformat": 4,
  "nbformat_minor": 0,
  "metadata": {
    "colab": {
      "name": "Twitter sentiment analysis.ipynb",
      "provenance": []
    },
    "kernelspec": {
      "name": "python3",
      "display_name": "Python 3"
    }
  },
  "cells": [
    {
      "cell_type": "code",
      "metadata": {
        "id": "foFISVxv6jvC"
      },
      "source": [
        "\n",
        "import numpy as np \n",
        "import pandas as pd \n",
        "import matplotlib.pyplot as plt\n",
        "from mlxtend.plotting import plot_confusion_matrix\n",
        "\n",
        "from sklearn.linear_model import LogisticRegression\n",
        "from sklearn.neighbors import KNeighborsClassifier\n",
        "from sklearn.svm import SVC\n",
        "from sklearn.tree import DecisionTreeClassifier\n",
        "from sklearn.ensemble import RandomForestClassifier, GradientBoostingClassifier\n",
        "from sklearn.naive_bayes import GaussianNB\n",
        "from sklearn.metrics import accuracy_score,confusion_matrix, f1_score"
      ],
      "execution_count": 1,
      "outputs": []
    },
    {
      "cell_type": "code",
      "metadata": {
        "colab": {
          "base_uri": "https://localhost:8080/",
          "height": 445
        },
        "id": "jOk2T8YmCaZW",
        "outputId": "fddee47a-cfe5-40d4-905b-b7685bfc462c"
      },
      "source": [
        "df = pd.read_csv('./Tweets.csv')\n",
        "df.head()"
      ],
      "execution_count": 2,
      "outputs": [
        {
          "output_type": "execute_result",
          "data": {
            "text/html": [
              "<div>\n",
              "<style scoped>\n",
              "    .dataframe tbody tr th:only-of-type {\n",
              "        vertical-align: middle;\n",
              "    }\n",
              "\n",
              "    .dataframe tbody tr th {\n",
              "        vertical-align: top;\n",
              "    }\n",
              "\n",
              "    .dataframe thead th {\n",
              "        text-align: right;\n",
              "    }\n",
              "</style>\n",
              "<table border=\"1\" class=\"dataframe\">\n",
              "  <thead>\n",
              "    <tr style=\"text-align: right;\">\n",
              "      <th></th>\n",
              "      <th>tweet_id</th>\n",
              "      <th>airline_sentiment</th>\n",
              "      <th>airline_sentiment_confidence</th>\n",
              "      <th>negativereason</th>\n",
              "      <th>negativereason_confidence</th>\n",
              "      <th>airline</th>\n",
              "      <th>airline_sentiment_gold</th>\n",
              "      <th>name</th>\n",
              "      <th>negativereason_gold</th>\n",
              "      <th>retweet_count</th>\n",
              "      <th>text</th>\n",
              "      <th>tweet_coord</th>\n",
              "      <th>tweet_created</th>\n",
              "      <th>tweet_location</th>\n",
              "      <th>user_timezone</th>\n",
              "    </tr>\n",
              "  </thead>\n",
              "  <tbody>\n",
              "    <tr>\n",
              "      <th>0</th>\n",
              "      <td>570306133677760513</td>\n",
              "      <td>neutral</td>\n",
              "      <td>1.0000</td>\n",
              "      <td>NaN</td>\n",
              "      <td>NaN</td>\n",
              "      <td>Virgin America</td>\n",
              "      <td>NaN</td>\n",
              "      <td>cairdin</td>\n",
              "      <td>NaN</td>\n",
              "      <td>0</td>\n",
              "      <td>@VirginAmerica What @dhepburn said.</td>\n",
              "      <td>NaN</td>\n",
              "      <td>2015-02-24 11:35:52 -0800</td>\n",
              "      <td>NaN</td>\n",
              "      <td>Eastern Time (US &amp; Canada)</td>\n",
              "    </tr>\n",
              "    <tr>\n",
              "      <th>1</th>\n",
              "      <td>570301130888122368</td>\n",
              "      <td>positive</td>\n",
              "      <td>0.3486</td>\n",
              "      <td>NaN</td>\n",
              "      <td>0.0000</td>\n",
              "      <td>Virgin America</td>\n",
              "      <td>NaN</td>\n",
              "      <td>jnardino</td>\n",
              "      <td>NaN</td>\n",
              "      <td>0</td>\n",
              "      <td>@VirginAmerica plus you've added commercials t...</td>\n",
              "      <td>NaN</td>\n",
              "      <td>2015-02-24 11:15:59 -0800</td>\n",
              "      <td>NaN</td>\n",
              "      <td>Pacific Time (US &amp; Canada)</td>\n",
              "    </tr>\n",
              "    <tr>\n",
              "      <th>2</th>\n",
              "      <td>570301083672813571</td>\n",
              "      <td>neutral</td>\n",
              "      <td>0.6837</td>\n",
              "      <td>NaN</td>\n",
              "      <td>NaN</td>\n",
              "      <td>Virgin America</td>\n",
              "      <td>NaN</td>\n",
              "      <td>yvonnalynn</td>\n",
              "      <td>NaN</td>\n",
              "      <td>0</td>\n",
              "      <td>@VirginAmerica I didn't today... Must mean I n...</td>\n",
              "      <td>NaN</td>\n",
              "      <td>2015-02-24 11:15:48 -0800</td>\n",
              "      <td>Lets Play</td>\n",
              "      <td>Central Time (US &amp; Canada)</td>\n",
              "    </tr>\n",
              "    <tr>\n",
              "      <th>3</th>\n",
              "      <td>570301031407624196</td>\n",
              "      <td>negative</td>\n",
              "      <td>1.0000</td>\n",
              "      <td>Bad Flight</td>\n",
              "      <td>0.7033</td>\n",
              "      <td>Virgin America</td>\n",
              "      <td>NaN</td>\n",
              "      <td>jnardino</td>\n",
              "      <td>NaN</td>\n",
              "      <td>0</td>\n",
              "      <td>@VirginAmerica it's really aggressive to blast...</td>\n",
              "      <td>NaN</td>\n",
              "      <td>2015-02-24 11:15:36 -0800</td>\n",
              "      <td>NaN</td>\n",
              "      <td>Pacific Time (US &amp; Canada)</td>\n",
              "    </tr>\n",
              "    <tr>\n",
              "      <th>4</th>\n",
              "      <td>570300817074462722</td>\n",
              "      <td>negative</td>\n",
              "      <td>1.0000</td>\n",
              "      <td>Can't Tell</td>\n",
              "      <td>1.0000</td>\n",
              "      <td>Virgin America</td>\n",
              "      <td>NaN</td>\n",
              "      <td>jnardino</td>\n",
              "      <td>NaN</td>\n",
              "      <td>0</td>\n",
              "      <td>@VirginAmerica and it's a really big bad thing...</td>\n",
              "      <td>NaN</td>\n",
              "      <td>2015-02-24 11:14:45 -0800</td>\n",
              "      <td>NaN</td>\n",
              "      <td>Pacific Time (US &amp; Canada)</td>\n",
              "    </tr>\n",
              "  </tbody>\n",
              "</table>\n",
              "</div>"
            ],
            "text/plain": [
              "             tweet_id  ...               user_timezone\n",
              "0  570306133677760513  ...  Eastern Time (US & Canada)\n",
              "1  570301130888122368  ...  Pacific Time (US & Canada)\n",
              "2  570301083672813571  ...  Central Time (US & Canada)\n",
              "3  570301031407624196  ...  Pacific Time (US & Canada)\n",
              "4  570300817074462722  ...  Pacific Time (US & Canada)\n",
              "\n",
              "[5 rows x 15 columns]"
            ]
          },
          "metadata": {
            "tags": []
          },
          "execution_count": 2
        }
      ]
    },
    {
      "cell_type": "code",
      "metadata": {
        "colab": {
          "base_uri": "https://localhost:8080/"
        },
        "id": "M70rP4PvCgN1",
        "outputId": "281c48ab-7d0a-4e8b-9d4c-438353f41292"
      },
      "source": [
        "df.shape\n"
      ],
      "execution_count": 3,
      "outputs": [
        {
          "output_type": "execute_result",
          "data": {
            "text/plain": [
              "(14640, 15)"
            ]
          },
          "metadata": {
            "tags": []
          },
          "execution_count": 3
        }
      ]
    },
    {
      "cell_type": "code",
      "metadata": {
        "colab": {
          "base_uri": "https://localhost:8080/"
        },
        "id": "AJyHWleLCkr8",
        "outputId": "3b753a23-6510-48ad-9115-d5ca3df927df"
      },
      "source": [
        "df.isna().sum()"
      ],
      "execution_count": 4,
      "outputs": [
        {
          "output_type": "execute_result",
          "data": {
            "text/plain": [
              "tweet_id                            0\n",
              "airline_sentiment                   0\n",
              "airline_sentiment_confidence        0\n",
              "negativereason                   5462\n",
              "negativereason_confidence        4118\n",
              "airline                             0\n",
              "airline_sentiment_gold          14600\n",
              "name                                0\n",
              "negativereason_gold             14608\n",
              "retweet_count                       0\n",
              "text                                0\n",
              "tweet_coord                     13621\n",
              "tweet_created                       0\n",
              "tweet_location                   4733\n",
              "user_timezone                    4820\n",
              "dtype: int64"
            ]
          },
          "metadata": {
            "tags": []
          },
          "execution_count": 4
        }
      ]
    },
    {
      "cell_type": "code",
      "metadata": {
        "colab": {
          "base_uri": "https://localhost:8080/"
        },
        "id": "Csc4ABil81Fb",
        "outputId": "216aa8a9-f884-45b7-d08b-1f7833159c42"
      },
      "source": [
        "df.count()"
      ],
      "execution_count": 5,
      "outputs": [
        {
          "output_type": "execute_result",
          "data": {
            "text/plain": [
              "tweet_id                        14640\n",
              "airline_sentiment               14640\n",
              "airline_sentiment_confidence    14640\n",
              "negativereason                   9178\n",
              "negativereason_confidence       10522\n",
              "airline                         14640\n",
              "airline_sentiment_gold             40\n",
              "name                            14640\n",
              "negativereason_gold                32\n",
              "retweet_count                   14640\n",
              "text                            14640\n",
              "tweet_coord                      1019\n",
              "tweet_created                   14640\n",
              "tweet_location                   9907\n",
              "user_timezone                    9820\n",
              "dtype: int64"
            ]
          },
          "metadata": {
            "tags": []
          },
          "execution_count": 5
        }
      ]
    },
    {
      "cell_type": "code",
      "metadata": {
        "colab": {
          "base_uri": "https://localhost:8080/"
        },
        "id": "WgQygv8U8_OE",
        "outputId": "58c6ff96-7bac-4687-dfd1-d13bcaf30d52"
      },
      "source": [
        "len(df)"
      ],
      "execution_count": 6,
      "outputs": [
        {
          "output_type": "execute_result",
          "data": {
            "text/plain": [
              "14640"
            ]
          },
          "metadata": {
            "tags": []
          },
          "execution_count": 6
        }
      ]
    },
    {
      "cell_type": "code",
      "metadata": {
        "colab": {
          "base_uri": "https://localhost:8080/"
        },
        "id": "5LNl2HKfCnOF",
        "outputId": "0603a558-e101-485e-8edc-f5632fd685f2"
      },
      "source": [
        "((len(df)-df.count())/len(df))*100\n"
      ],
      "execution_count": 7,
      "outputs": [
        {
          "output_type": "execute_result",
          "data": {
            "text/plain": [
              "tweet_id                         0.000000\n",
              "airline_sentiment                0.000000\n",
              "airline_sentiment_confidence     0.000000\n",
              "negativereason                  37.308743\n",
              "negativereason_confidence       28.128415\n",
              "airline                          0.000000\n",
              "airline_sentiment_gold          99.726776\n",
              "name                             0.000000\n",
              "negativereason_gold             99.781421\n",
              "retweet_count                    0.000000\n",
              "text                             0.000000\n",
              "tweet_coord                     93.039617\n",
              "tweet_created                    0.000000\n",
              "tweet_location                  32.329235\n",
              "user_timezone                   32.923497\n",
              "dtype: float64"
            ]
          },
          "metadata": {
            "tags": []
          },
          "execution_count": 7
        }
      ]
    },
    {
      "cell_type": "code",
      "metadata": {
        "id": "RDpGh-rKCpPv"
      },
      "source": [
        "del df['airline_sentiment_gold']\n",
        "del df['negativereason_gold']\n",
        "del df['tweet_coord']"
      ],
      "execution_count": 8,
      "outputs": []
    },
    {
      "cell_type": "code",
      "metadata": {
        "colab": {
          "base_uri": "https://localhost:8080/"
        },
        "id": "KwRyJbZTCtoT",
        "outputId": "641f266e-10ab-477e-c9d4-0a83d6b4704b"
      },
      "source": [
        "df.shape"
      ],
      "execution_count": 9,
      "outputs": [
        {
          "output_type": "execute_result",
          "data": {
            "text/plain": [
              "(14640, 12)"
            ]
          },
          "metadata": {
            "tags": []
          },
          "execution_count": 9
        }
      ]
    },
    {
      "cell_type": "code",
      "metadata": {
        "colab": {
          "base_uri": "https://localhost:8080/",
          "height": 445
        },
        "id": "7Sy_wuaPCw9b",
        "outputId": "6324fe10-8694-47b0-cac3-b3ff6ddc6d6d"
      },
      "source": [
        "df.head()\n"
      ],
      "execution_count": 10,
      "outputs": [
        {
          "output_type": "execute_result",
          "data": {
            "text/html": [
              "<div>\n",
              "<style scoped>\n",
              "    .dataframe tbody tr th:only-of-type {\n",
              "        vertical-align: middle;\n",
              "    }\n",
              "\n",
              "    .dataframe tbody tr th {\n",
              "        vertical-align: top;\n",
              "    }\n",
              "\n",
              "    .dataframe thead th {\n",
              "        text-align: right;\n",
              "    }\n",
              "</style>\n",
              "<table border=\"1\" class=\"dataframe\">\n",
              "  <thead>\n",
              "    <tr style=\"text-align: right;\">\n",
              "      <th></th>\n",
              "      <th>tweet_id</th>\n",
              "      <th>airline_sentiment</th>\n",
              "      <th>airline_sentiment_confidence</th>\n",
              "      <th>negativereason</th>\n",
              "      <th>negativereason_confidence</th>\n",
              "      <th>airline</th>\n",
              "      <th>name</th>\n",
              "      <th>retweet_count</th>\n",
              "      <th>text</th>\n",
              "      <th>tweet_created</th>\n",
              "      <th>tweet_location</th>\n",
              "      <th>user_timezone</th>\n",
              "    </tr>\n",
              "  </thead>\n",
              "  <tbody>\n",
              "    <tr>\n",
              "      <th>0</th>\n",
              "      <td>570306133677760513</td>\n",
              "      <td>neutral</td>\n",
              "      <td>1.0000</td>\n",
              "      <td>NaN</td>\n",
              "      <td>NaN</td>\n",
              "      <td>Virgin America</td>\n",
              "      <td>cairdin</td>\n",
              "      <td>0</td>\n",
              "      <td>@VirginAmerica What @dhepburn said.</td>\n",
              "      <td>2015-02-24 11:35:52 -0800</td>\n",
              "      <td>NaN</td>\n",
              "      <td>Eastern Time (US &amp; Canada)</td>\n",
              "    </tr>\n",
              "    <tr>\n",
              "      <th>1</th>\n",
              "      <td>570301130888122368</td>\n",
              "      <td>positive</td>\n",
              "      <td>0.3486</td>\n",
              "      <td>NaN</td>\n",
              "      <td>0.0000</td>\n",
              "      <td>Virgin America</td>\n",
              "      <td>jnardino</td>\n",
              "      <td>0</td>\n",
              "      <td>@VirginAmerica plus you've added commercials t...</td>\n",
              "      <td>2015-02-24 11:15:59 -0800</td>\n",
              "      <td>NaN</td>\n",
              "      <td>Pacific Time (US &amp; Canada)</td>\n",
              "    </tr>\n",
              "    <tr>\n",
              "      <th>2</th>\n",
              "      <td>570301083672813571</td>\n",
              "      <td>neutral</td>\n",
              "      <td>0.6837</td>\n",
              "      <td>NaN</td>\n",
              "      <td>NaN</td>\n",
              "      <td>Virgin America</td>\n",
              "      <td>yvonnalynn</td>\n",
              "      <td>0</td>\n",
              "      <td>@VirginAmerica I didn't today... Must mean I n...</td>\n",
              "      <td>2015-02-24 11:15:48 -0800</td>\n",
              "      <td>Lets Play</td>\n",
              "      <td>Central Time (US &amp; Canada)</td>\n",
              "    </tr>\n",
              "    <tr>\n",
              "      <th>3</th>\n",
              "      <td>570301031407624196</td>\n",
              "      <td>negative</td>\n",
              "      <td>1.0000</td>\n",
              "      <td>Bad Flight</td>\n",
              "      <td>0.7033</td>\n",
              "      <td>Virgin America</td>\n",
              "      <td>jnardino</td>\n",
              "      <td>0</td>\n",
              "      <td>@VirginAmerica it's really aggressive to blast...</td>\n",
              "      <td>2015-02-24 11:15:36 -0800</td>\n",
              "      <td>NaN</td>\n",
              "      <td>Pacific Time (US &amp; Canada)</td>\n",
              "    </tr>\n",
              "    <tr>\n",
              "      <th>4</th>\n",
              "      <td>570300817074462722</td>\n",
              "      <td>negative</td>\n",
              "      <td>1.0000</td>\n",
              "      <td>Can't Tell</td>\n",
              "      <td>1.0000</td>\n",
              "      <td>Virgin America</td>\n",
              "      <td>jnardino</td>\n",
              "      <td>0</td>\n",
              "      <td>@VirginAmerica and it's a really big bad thing...</td>\n",
              "      <td>2015-02-24 11:14:45 -0800</td>\n",
              "      <td>NaN</td>\n",
              "      <td>Pacific Time (US &amp; Canada)</td>\n",
              "    </tr>\n",
              "  </tbody>\n",
              "</table>\n",
              "</div>"
            ],
            "text/plain": [
              "             tweet_id  ...               user_timezone\n",
              "0  570306133677760513  ...  Eastern Time (US & Canada)\n",
              "1  570301130888122368  ...  Pacific Time (US & Canada)\n",
              "2  570301083672813571  ...  Central Time (US & Canada)\n",
              "3  570301031407624196  ...  Pacific Time (US & Canada)\n",
              "4  570300817074462722  ...  Pacific Time (US & Canada)\n",
              "\n",
              "[5 rows x 12 columns]"
            ]
          },
          "metadata": {
            "tags": []
          },
          "execution_count": 10
        }
      ]
    },
    {
      "cell_type": "code",
      "metadata": {
        "colab": {
          "base_uri": "https://localhost:8080/"
        },
        "id": "I1LAUAd69Tr3",
        "outputId": "17e5ab3e-b142-493a-dd30-08dbced65f16"
      },
      "source": [
        "df.count()"
      ],
      "execution_count": 11,
      "outputs": [
        {
          "output_type": "execute_result",
          "data": {
            "text/plain": [
              "tweet_id                        14640\n",
              "airline_sentiment               14640\n",
              "airline_sentiment_confidence    14640\n",
              "negativereason                   9178\n",
              "negativereason_confidence       10522\n",
              "airline                         14640\n",
              "name                            14640\n",
              "retweet_count                   14640\n",
              "text                            14640\n",
              "tweet_created                   14640\n",
              "tweet_location                   9907\n",
              "user_timezone                    9820\n",
              "dtype: int64"
            ]
          },
          "metadata": {
            "tags": []
          },
          "execution_count": 11
        }
      ]
    },
    {
      "cell_type": "code",
      "metadata": {
        "colab": {
          "base_uri": "https://localhost:8080/"
        },
        "id": "pt7SFHmp9W3V",
        "outputId": "d018ce9e-2ae8-48b2-9b05-bdcf31d342e1"
      },
      "source": [
        "len(df)"
      ],
      "execution_count": 12,
      "outputs": [
        {
          "output_type": "execute_result",
          "data": {
            "text/plain": [
              "14640"
            ]
          },
          "metadata": {
            "tags": []
          },
          "execution_count": 12
        }
      ]
    },
    {
      "cell_type": "code",
      "metadata": {
        "colab": {
          "base_uri": "https://localhost:8080/"
        },
        "id": "oYuOMw8I9YtB",
        "outputId": "205fe8ed-e235-45d4-b3c6-84ce39f301bc"
      },
      "source": [
        "((len(df)-df.count())/len(df))*100"
      ],
      "execution_count": 13,
      "outputs": [
        {
          "output_type": "execute_result",
          "data": {
            "text/plain": [
              "tweet_id                         0.000000\n",
              "airline_sentiment                0.000000\n",
              "airline_sentiment_confidence     0.000000\n",
              "negativereason                  37.308743\n",
              "negativereason_confidence       28.128415\n",
              "airline                          0.000000\n",
              "name                             0.000000\n",
              "retweet_count                    0.000000\n",
              "text                             0.000000\n",
              "tweet_created                    0.000000\n",
              "tweet_location                  32.329235\n",
              "user_timezone                   32.923497\n",
              "dtype: float64"
            ]
          },
          "metadata": {
            "tags": []
          },
          "execution_count": 13
        }
      ]
    },
    {
      "cell_type": "code",
      "metadata": {
        "id": "waFLpl7NCyaO"
      },
      "source": [
        "sentiment_count = df.airline_sentiment.value_counts()\n",
        "airline_total = df['airline'].value_counts()"
      ],
      "execution_count": 14,
      "outputs": []
    },
    {
      "cell_type": "code",
      "metadata": {
        "colab": {
          "base_uri": "https://localhost:8080/"
        },
        "id": "KcOfydBL-C9W",
        "outputId": "02ac62fd-690b-42d4-fba9-665960239746"
      },
      "source": [
        "sentiment_count"
      ],
      "execution_count": 15,
      "outputs": [
        {
          "output_type": "execute_result",
          "data": {
            "text/plain": [
              "negative    9178\n",
              "neutral     3099\n",
              "positive    2363\n",
              "Name: airline_sentiment, dtype: int64"
            ]
          },
          "metadata": {
            "tags": []
          },
          "execution_count": 15
        }
      ]
    },
    {
      "cell_type": "code",
      "metadata": {
        "colab": {
          "base_uri": "https://localhost:8080/"
        },
        "id": "m8927PZ_-Gog",
        "outputId": "b8042f39-0c12-4525-ee3d-10eb8c7d0ded"
      },
      "source": [
        "airline_total"
      ],
      "execution_count": 16,
      "outputs": [
        {
          "output_type": "execute_result",
          "data": {
            "text/plain": [
              "United            3822\n",
              "US Airways        2913\n",
              "American          2759\n",
              "Southwest         2420\n",
              "Delta             2222\n",
              "Virgin America     504\n",
              "Name: airline, dtype: int64"
            ]
          },
          "metadata": {
            "tags": []
          },
          "execution_count": 16
        }
      ]
    },
    {
      "cell_type": "code",
      "metadata": {
        "colab": {
          "base_uri": "https://localhost:8080/",
          "height": 355
        },
        "id": "CheBS_WwC2hg",
        "outputId": "47c5da17-5c76-4ba3-f032-ea2602a49b64"
      },
      "source": [
        "index = [1,2,3]\n",
        "plt.figure(1,figsize=(20,10))\n",
        "plt.subplot(221)\n",
        "plt.bar(index,sentiment_count)\n",
        "plt.xticks(index,['negative','neutral','positive'],rotation=0)\n",
        "plt.xlabel('Sentiment Type')\n",
        "plt.ylabel('Sentiment Count')\n",
        "plt.title('Count of Type of Sentiment')\n",
        "Index=[1,2,3,4,5,6]\n",
        "plt.subplot(222)\n",
        "plt.bar(Index,airline_total)\n",
        "plt.xticks(Index,['United','US Airways','American','Southwest','Delta','Virgin America'],rotation=90)\n",
        "plt.xlabel('Airline')\n",
        "plt.ylabel('Review Count')\n",
        "plt.title('Airline Review Count')"
      ],
      "execution_count": 17,
      "outputs": [
        {
          "output_type": "execute_result",
          "data": {
            "text/plain": [
              "Text(0.5, 1.0, 'Airline Review Count')"
            ]
          },
          "metadata": {
            "tags": []
          },
          "execution_count": 17
        },
        {
          "output_type": "display_data",
          "data": {
            "image/png": "[encoded data removed]",
            "text/plain": [
              "<Figure size 1440x720 with 2 Axes>"
            ]
          },
          "metadata": {
            "tags": [],
            "needs_background": "light"
          }
        }
      ]
    },
    {
      "cell_type": "code",
      "metadata": {
        "colab": {
          "base_uri": "https://localhost:8080/"
        },
        "id": "RleEQWvZqn7o",
        "outputId": "fce33a48-7eca-4897-d54b-9db5b84513e9"
      },
      "source": [
        "df.groupby('airline')['airline_sentiment'].first()"
      ],
      "execution_count": 18,
      "outputs": [
        {
          "output_type": "execute_result",
          "data": {
            "text/plain": [
              "airline\n",
              "American          negative\n",
              "Delta             positive\n",
              "Southwest         negative\n",
              "US Airways        negative\n",
              "United            positive\n",
              "Virgin America     neutral\n",
              "Name: airline_sentiment, dtype: object"
            ]
          },
          "metadata": {
            "tags": []
          },
          "execution_count": 18
        }
      ]
    },
    {
      "cell_type": "code",
      "metadata": {
        "id": "iMpq9AD4C5GN"
      },
      "source": [
        "airline_count = df.groupby('airline')['airline_sentiment'].value_counts()\n"
      ],
      "execution_count": 19,
      "outputs": []
    },
    {
      "cell_type": "code",
      "metadata": {
        "id": "3ckf30PdEd84",
        "colab": {
          "base_uri": "https://localhost:8080/"
        },
        "outputId": "b59d6e12-5f7b-40b0-be4e-cf3b73ccd54b"
      },
      "source": [
        "airline_count"
      ],
      "execution_count": 20,
      "outputs": [
        {
          "output_type": "execute_result",
          "data": {
            "text/plain": [
              "airline         airline_sentiment\n",
              "American        negative             1960\n",
              "                neutral               463\n",
              "                positive              336\n",
              "Delta           negative              955\n",
              "                neutral               723\n",
              "                positive              544\n",
              "Southwest       negative             1186\n",
              "                neutral               664\n",
              "                positive              570\n",
              "US Airways      negative             2263\n",
              "                neutral               381\n",
              "                positive              269\n",
              "United          negative             2633\n",
              "                neutral               697\n",
              "                positive              492\n",
              "Virgin America  negative              181\n",
              "                neutral               171\n",
              "                positive              152\n",
              "Name: airline_sentiment, dtype: int64"
            ]
          },
          "metadata": {
            "tags": []
          },
          "execution_count": 20
        }
      ]
    },
    {
      "cell_type": "code",
      "metadata": {
        "colab": {
          "base_uri": "https://localhost:8080/",
          "height": 398
        },
        "id": "hGxB1uzTrqGZ",
        "outputId": "48c56e34-d328-4c5e-fb65-abcdef1d863e"
      },
      "source": [
        "def plot_sentiment_airline(airline):\n",
        "    df_airline = df[df['airline']==airline]\n",
        "    count = df_airline['airline_sentiment'].value_counts()\n",
        "    index = [1,2,3]\n",
        "    plt.bar(index,count)\n",
        "    plt.xticks(index,['negative','neutral','positive'],rotation=0)\n",
        "    plt.xlabel('Sentiment Type')\n",
        "    plt.ylabel('Sentiment Count')\n",
        "    plt.title('Count of Sentiment Type of '+airline)\n",
        "airlines = ['US Airways','Virgin America','United','Delta','American','Southwest']\n",
        "for i in range(len(airlines)):\n",
        "    plt.figure(1,figsize=(20,12))\n",
        "    temp = 231+i\n",
        "    plt.subplot(temp)\n",
        "    plot_sentiment_airline(airlines[i])\n"
      ],
      "execution_count": 41,
      "outputs": [
        {
          "output_type": "display_data",
          "data": {
            "image/png": "[encoded data removed]",
            "text/plain": [
              "<Figure size 1440x864 with 6 Axes>"
            ]
          },
          "metadata": {
            "tags": [],
            "needs_background": "light"
          }
        }
      ]
    },
    {
      "cell_type": "code",
      "metadata": {
        "colab": {
          "base_uri": "https://localhost:8080/",
          "height": 398
        },
        "id": "dKo2KMM3C7Oi",
        "outputId": "fda108d5-d6f8-49a1-d782-823d4881b768"
      },
      "source": [
        "def plot_sentiment_airline(airline):\n",
        "    df_airline = df[df['airline']==airline]\n",
        "    count = df_airline['airline_sentiment'].value_counts()\n",
        "    index = [1,2,3]\n",
        "    plt.bar(index,count)\n",
        "    plt.xticks(index,['negative','neutral','positive'],rotation=0)\n",
        "    plt.xlabel('Sentiment Type')\n",
        "    plt.ylabel('Sentiment Count')\n",
        "    plt.title('Count of Sentiment Type of '+airline)\n",
        "airlines = ['US Airways','Virgin America','United','Delta','American','Southwest']\n",
        "for i in range(len(airlines)):\n",
        "    plt.figure(1,figsize=(20,12))\n",
        "    temp = 231+ i\n",
        "    plt.subplot(temp)\n",
        "    plot_sentiment_airline(airlines[i])\n"
      ],
      "execution_count": 42,
      "outputs": [
        {
          "output_type": "display_data",
          "data": {
            "image/png": "[encoded data removed]",
            "text/plain": [
              "<Figure size 1440x864 with 6 Axes>"
            ]
          },
          "metadata": {
            "tags": [],
            "needs_background": "light"
          }
        }
      ]
    },
    {
      "cell_type": "code",
      "metadata": {
        "id": "9VS6QkevC9et"
      },
      "source": [
        "timezone_count = df['user_timezone'].value_counts()\n",
        "tweet = df.groupby(['airline','airline_sentiment'])['user_timezone'].value_counts()"
      ],
      "execution_count": 43,
      "outputs": []
    },
    {
      "cell_type": "code",
      "metadata": {
        "colab": {
          "base_uri": "https://localhost:8080/"
        },
        "id": "6W_S0RIHmPiI",
        "outputId": "445058d9-8e73-441f-a582-4996314353c5"
      },
      "source": [
        "timezone_count"
      ],
      "execution_count": 44,
      "outputs": [
        {
          "output_type": "execute_result",
          "data": {
            "text/plain": [
              "Eastern Time (US & Canada)    3744\n",
              "Central Time (US & Canada)    1931\n",
              "Pacific Time (US & Canada)    1208\n",
              "Quito                          738\n",
              "Atlantic Time (Canada)         497\n",
              "                              ... \n",
              "Monterrey                        1\n",
              "Bern                             1\n",
              "Kuala Lumpur                     1\n",
              "Newfoundland                     1\n",
              "Lisbon                           1\n",
              "Name: user_timezone, Length: 85, dtype: int64"
            ]
          },
          "metadata": {
            "tags": []
          },
          "execution_count": 44
        }
      ]
    },
    {
      "cell_type": "code",
      "metadata": {
        "colab": {
          "base_uri": "https://localhost:8080/"
        },
        "id": "1nGdR5K8mR2X",
        "outputId": "8efb635b-2494-4396-92b3-1e0381db9d37"
      },
      "source": [
        "tweet"
      ],
      "execution_count": 45,
      "outputs": [
        {
          "output_type": "execute_result",
          "data": {
            "text/plain": [
              "airline         airline_sentiment  user_timezone             \n",
              "American        negative           Eastern Time (US & Canada)    383\n",
              "                                   Central Time (US & Canada)    321\n",
              "                                   Pacific Time (US & Canada)    152\n",
              "                                   Quito                         118\n",
              "                                   Atlantic Time (Canada)         46\n",
              "                                                                ... \n",
              "Virgin America  positive           America/New_York                2\n",
              "                                   Tijuana                         2\n",
              "                                   Alaska                          1\n",
              "                                   Kuala Lumpur                    1\n",
              "                                   Quito                           1\n",
              "Name: user_timezone, Length: 436, dtype: int64"
            ]
          },
          "metadata": {
            "tags": []
          },
          "execution_count": 45
        }
      ]
    },
    {
      "cell_type": "code",
      "metadata": {
        "id": "dZgWO0PkDAme"
      },
      "source": [
        "df['tweet_created']=pd.to_datetime(df['tweet_created'])\n",
        "df['tweet_created'] = df['tweet_created'].dt.date\n",
        "day = df.groupby(['tweet_created','airline'])['airline_sentiment'].value_counts(sort=True)"
      ],
      "execution_count": 48,
      "outputs": []
    },
    {
      "cell_type": "code",
      "metadata": {
        "colab": {
          "base_uri": "https://localhost:8080/"
        },
        "id": "lvEv_tRv3UkR",
        "outputId": "2ae39085-14ff-4958-edef-207357f98a82"
      },
      "source": [
        "day"
      ],
      "execution_count": 49,
      "outputs": [
        {
          "output_type": "execute_result",
          "data": {
            "text/plain": [
              "tweet_created  airline         airline_sentiment\n",
              "2015-02-16     Delta           negative               1\n",
              "                               neutral                1\n",
              "               United          negative               2\n",
              "2015-02-17     Delta           negative             108\n",
              "                               neutral               86\n",
              "                                                   ... \n",
              "2015-02-24     United          neutral               49\n",
              "                               positive              25\n",
              "               Virgin America  positive              13\n",
              "                               negative              10\n",
              "                               neutral                6\n",
              "Name: airline_sentiment, Length: 136, dtype: int64"
            ]
          },
          "metadata": {
            "tags": []
          },
          "execution_count": 49
        }
      ]
    },
    {
      "cell_type": "code",
      "metadata": {
        "colab": {
          "base_uri": "https://localhost:8080/",
          "height": 286
        },
        "id": "F7ZsfPL1DD40",
        "outputId": "b3625d3f-b9af-4f39-872b-eab1d102767c"
      },
      "source": [
        "date = day.loc(axis=0)[:,:,'negative']\n",
        "date.groupby(['tweet_created','airline']).sum().unstack().plot(kind='bar',figsize=(15,5))\n",
        "plt.xlabel('Date')\n",
        "plt.ylabel('Negative Sentiment Count')\n",
        "plt.title(\"Airlines' Negative Sentiment Count by Date\")\n",
        "plt.show()"
      ],
      "execution_count": 50,
      "outputs": [
        {
          "output_type": "display_data",
          "data": {
            "image/png": "[encoded data removed]",
            "text/plain": [
              "<Figure size 1080x360 with 1 Axes>"
            ]
          },
          "metadata": {
            "tags": [],
            "needs_background": "light"
          }
        }
      ]
    },
    {
      "cell_type": "code",
      "metadata": {
        "colab": {
          "base_uri": "https://localhost:8080/"
        },
        "id": "bdNmlB5IDGZW",
        "outputId": "83e8ebca-475b-4cab-f2f9-e3dbae0894b9"
      },
      "source": [
        "df['negativereason'].nunique()"
      ],
      "execution_count": 51,
      "outputs": [
        {
          "output_type": "execute_result",
          "data": {
            "text/plain": [
              "10"
            ]
          },
          "metadata": {
            "tags": []
          },
          "execution_count": 51
        }
      ]
    },
    {
      "cell_type": "code",
      "metadata": {
        "id": "ssGsj_QaDI3z"
      },
      "source": [
        "nr_count = df['negativereason'].value_counts()\n",
        "nr_dict = dict(df['negativereason'].value_counts())\n"
      ],
      "execution_count": 52,
      "outputs": []
    },
    {
      "cell_type": "code",
      "metadata": {
        "colab": {
          "base_uri": "https://localhost:8080/",
          "height": 752
        },
        "id": "JdGBYImCDLEv",
        "outputId": "ad911bdf-8d3f-4fe9-ce6c-5970c04d1f85"
      },
      "source": [
        "nr = [\"Customer Service Issue\",\"Late Flight\",\"Can't Tell\", \"Cancelled Flight\", \"Lost Luggage\", \"Bad Flight\",\"Flight Booking Problems\",         \n",
        "\"Flight Attendant Complaints\",\"longlines\",\"Damaged Luggage\"]\n",
        "\n",
        "def plot_negativereason_count(reason,reason_count):\n",
        "    index=list(range(10))\n",
        "    plt.figure(figsize=(15,10))\n",
        "    plt.bar(index,reason_count)\n",
        "    plt.xticks(index,reason,rotation=90)\n",
        "    plt.xlabel('Negative Reason Type')\n",
        "    plt.ylabel('Reason Count')\n",
        "    plt.title('Count of Negative Reasons Type')\n",
        "plot_negativereason_count(nr,nr_count)"
      ],
      "execution_count": 54,
      "outputs": [
        {
          "output_type": "display_data",
          "data": {
            "image/png": "[encoded data removed]",
            "text/plain": [
              "<Figure size 1080x720 with 1 Axes>"
            ]
          },
          "metadata": {
            "tags": [],
            "needs_background": "light"
          }
        }
      ]
    },
    {
      "cell_type": "code",
      "metadata": {
        "id": "l06tCQGsDNiN"
      },
      "source": [
        "negative_df = df.groupby('airline')['negativereason'].value_counts(ascending=False)"
      ],
      "execution_count": 55,
      "outputs": []
    },
    {
      "cell_type": "code",
      "metadata": {
        "colab": {
          "base_uri": "https://localhost:8080/",
          "height": 598
        },
        "id": "pqd2NAhNDVtP",
        "outputId": "46486da3-9dc1-4617-9be6-7b5feb476a75"
      },
      "source": [
        "negative_df.groupby(['airline','negativereason']).sum().unstack().plot(kind='bar',figsize=(20,10))\n",
        "plt.xlabel('Airline')\n",
        "plt.ylabel('Negative Reason Count')\n",
        "plt.title(\"Negative Reason Count for Airlines\")\n",
        "plt.show()\n"
      ],
      "execution_count": 56,
      "outputs": [
        {
          "output_type": "display_data",
          "data": {
            "image/png": "[encoded data removed]",
            "text/plain": [
              "<Figure size 1440x720 with 1 Axes>"
            ]
          },
          "metadata": {
            "tags": [],
            "needs_background": "light"
          }
        }
      ]
    },
    {
      "cell_type": "code",
      "metadata": {
        "colab": {
          "base_uri": "https://localhost:8080/"
        },
        "id": "ZUPNaOhTDX2k",
        "outputId": "ea6d9790-f686-4bcd-c069-e9ac1c6c3f54"
      },
      "source": [
        "import re\n",
        "import nltk\n",
        "nltk.download('stopwords')\n",
        "from nltk.corpus import stopwords\n",
        "from sklearn.model_selection import train_test_split\n",
        "from mlxtend.plotting import plot_confusion_matrix\n",
        "from sklearn.tree import DecisionTreeClassifier\n",
        "from sklearn.ensemble import RandomForestClassifier\n",
        "from sklearn.metrics import accuracy_score,confusion_matrix,classification_report\n",
        "from sklearn.feature_extraction.text import CountVectorizer"
      ],
      "execution_count": 57,
      "outputs": [
        {
          "output_type": "stream",
          "text": [
            "[nltk_data] Downloading package stopwords to /root/nltk_data...\n",
            "[nltk_data]   Unzipping corpora/stopwords.zip.\n"
          ],
          "name": "stdout"
        }
      ]
    },
    {
      "cell_type": "code",
      "metadata": {
        "id": "iCCUELHdDbxV"
      },
      "source": [
        "def text_to_words(tweet):\n",
        "    letters = re.sub(\"^a-zA-Z\",\" \",tweet)\n",
        "    words = letters.lower().split()\n",
        "    stops = set(stopwords.words(\"english\"))\n",
        "    meaningful_words = [w for w in words if not w in stops]\n",
        "    return( \" \".join(meaningful_words))"
      ],
      "execution_count": 59,
      "outputs": []
    },
    {
      "cell_type": "code",
      "metadata": {
        "colab": {
          "base_uri": "https://localhost:8080/"
        },
        "id": "IB3KyNtMVJW3",
        "outputId": "e48b5105-2a2c-4af9-b8de-a40cf062a475"
      },
      "source": [
        "df['airline_sentiment']"
      ],
      "execution_count": 61,
      "outputs": [
        {
          "output_type": "execute_result",
          "data": {
            "text/plain": [
              "0         neutral\n",
              "1        positive\n",
              "2         neutral\n",
              "3        negative\n",
              "4        negative\n",
              "           ...   \n",
              "14635    positive\n",
              "14636    negative\n",
              "14637     neutral\n",
              "14638    negative\n",
              "14639     neutral\n",
              "Name: airline_sentiment, Length: 14640, dtype: object"
            ]
          },
          "metadata": {
            "tags": []
          },
          "execution_count": 61
        }
      ]
    },
    {
      "cell_type": "code",
      "metadata": {
        "colab": {
          "base_uri": "https://localhost:8080/"
        },
        "id": "_fQLXU6WVSM1",
        "outputId": "2e40e6aa-99bc-4cf9-d7d3-69c96b37667d"
      },
      "source": [
        "df['text']"
      ],
      "execution_count": 62,
      "outputs": [
        {
          "output_type": "execute_result",
          "data": {
            "text/plain": [
              "0                      @VirginAmerica What @dhepburn said.\n",
              "1        @VirginAmerica plus you've added commercials t...\n",
              "2        @VirginAmerica I didn't today... Must mean I n...\n",
              "3        @VirginAmerica it's really aggressive to blast...\n",
              "4        @VirginAmerica and it's a really big bad thing...\n",
              "                               ...                        \n",
              "14635    @AmericanAir thank you we got on a different f...\n",
              "14636    @AmericanAir leaving over 20 minutes Late Flig...\n",
              "14637    @AmericanAir Please bring American Airlines to...\n",
              "14638    @AmericanAir you have my money, you change my ...\n",
              "14639    @AmericanAir we have 8 ppl so we need 2 know h...\n",
              "Name: text, Length: 14640, dtype: object"
            ]
          },
          "metadata": {
            "tags": []
          },
          "execution_count": 62
        }
      ]
    },
    {
      "cell_type": "code",
      "metadata": {
        "id": "ew70qYZsDg1h"
      },
      "source": [
        "df['sentiment'] = df['airline_sentiment'].apply(lambda x: 0 if x=='negative' else 1)\n",
        "df['text_clean'] = df['text'].apply(lambda x:text_to_words(x))"
      ],
      "execution_count": 63,
      "outputs": []
    },
    {
      "cell_type": "code",
      "metadata": {
        "colab": {
          "base_uri": "https://localhost:8080/"
        },
        "id": "OhOZ0p2XVWi0",
        "outputId": "64e689b5-541b-47d2-9e0f-1ccfdae6720d"
      },
      "source": [
        "df['sentiment']"
      ],
      "execution_count": 64,
      "outputs": [
        {
          "output_type": "execute_result",
          "data": {
            "text/plain": [
              "0        1\n",
              "1        1\n",
              "2        1\n",
              "3        0\n",
              "4        0\n",
              "        ..\n",
              "14635    1\n",
              "14636    0\n",
              "14637    1\n",
              "14638    0\n",
              "14639    1\n",
              "Name: sentiment, Length: 14640, dtype: int64"
            ]
          },
          "metadata": {
            "tags": []
          },
          "execution_count": 64
        }
      ]
    },
    {
      "cell_type": "code",
      "metadata": {
        "colab": {
          "base_uri": "https://localhost:8080/"
        },
        "id": "dk-Wxgq_VYuu",
        "outputId": "a72f4017-ad85-4a8f-df43-49459c043df4"
      },
      "source": [
        "df['text_clean']"
      ],
      "execution_count": 65,
      "outputs": [
        {
          "output_type": "execute_result",
          "data": {
            "text/plain": [
              "0                           @virginamerica @dhepburn said.\n",
              "1        @virginamerica plus added commercials experien...\n",
              "2        @virginamerica today... must mean need take an...\n",
              "3        @virginamerica really aggressive blast obnoxio...\n",
              "4                      @virginamerica really big bad thing\n",
              "                               ...                        \n",
              "14635     @americanair thank got different flight chicago.\n",
              "14636    @americanair leaving 20 minutes late flight. w...\n",
              "14637    @americanair please bring american airlines #b...\n",
              "14638    @americanair money, change flight, answer phon...\n",
              "14639    @americanair 8 ppl need 2 know many seats next...\n",
              "Name: text_clean, Length: 14640, dtype: object"
            ]
          },
          "metadata": {
            "tags": []
          },
          "execution_count": 65
        }
      ]
    },
    {
      "cell_type": "code",
      "metadata": {
        "id": "6RfRDvDYDk2D"
      },
      "source": [
        "train,test=train_test_split(df,test_size=0.2,random_state=42)"
      ],
      "execution_count": 66,
      "outputs": []
    },
    {
      "cell_type": "code",
      "metadata": {
        "id": "w30JG1KMET85"
      },
      "source": [
        "def clean_tweet(tweet_text):\n",
        "    res = []\n",
        "    for tweet in tweet_text:\n",
        "        res.append(tweet)\n",
        "    return res\n",
        "train_clean_text = clean_tweet(train['text_clean'])\n",
        "test_clean_text = clean_tweet(test['text_clean'])"
      ],
      "execution_count": 67,
      "outputs": []
    },
    {
      "cell_type": "code",
      "metadata": {
        "id": "NiAGbQckEXbs"
      },
      "source": [
        "counter_vectorizer = CountVectorizer(analyzer = \"word\")\n",
        "train_features= counter_vectorizer.fit_transform(train_clean_text)\n",
        "test_features=counter_vectorizer.transform(test_clean_text)"
      ],
      "execution_count": 68,
      "outputs": []
    },
    {
      "cell_type": "code",
      "metadata": {
        "id": "V7ZCzW5AEZqn"
      },
      "source": [
        "Classifiers = [\n",
        "    SVC(kernel=\"rbf\", C=0.025, gamma = 'scale'),\n",
        "    DecisionTreeClassifier(),\n",
        "    RandomForestClassifier(n_estimators=200),\n",
        "    GradientBoostingClassifier(),GaussianNB()]"
      ],
      "execution_count": 69,
      "outputs": []
    },
    {
      "cell_type": "code",
      "metadata": {
        "colab": {
          "base_uri": "https://localhost:8080/",
          "height": 1000
        },
        "id": "AQTBXtmUEbk3",
        "outputId": "53084882-8dc9-4fc8-8a98-92cbdb7356a5"
      },
      "source": [
        "dense_features=train_features.toarray()\n",
        "dense_test= test_features.toarray()\n",
        "Accuracy=[]\n",
        "Model=[]\n",
        "for clf in Classifiers:\n",
        "    try:\n",
        "        fit = clf.fit(train_features,train['sentiment'])\n",
        "        pred = fit.predict(test_features)\n",
        "    except Exception:\n",
        "        fit = clf.fit(dense_features,train['sentiment'])\n",
        "        pred = fit.predict(dense_test)\n",
        "    accuracy = accuracy_score(pred,test['sentiment'])\n",
        "    Accuracy.append(accuracy)\n",
        "    Model.append(clf.__class__.__name__)\n",
        "    print('Accuracy of '+clf.__class__.__name__+' is '+str(accuracy)) \n",
        "    print(classification_report(pred,test['sentiment']))\n",
        "    \n",
        "    #Confusion Matrix\n",
        "    cm = confusion_matrix(pred,test['sentiment'])\n",
        "    plt.figure()\n",
        "    plot_confusion_matrix(cm,cmap=plt.cm.Blues)\n",
        "    plt.xticks(range(2), ['Negative', 'Positive'],color='black')\n",
        "    plt.yticks(range(2), ['Negative', 'Positive'])\n",
        "    plt.xlabel('Predicted Label')\n",
        "    plt.ylabel('True Label')\n",
        "    plt.show()"
      ],
      "execution_count": 70,
      "outputs": [
        {
          "output_type": "stream",
          "text": [
            "Accuracy of SVC is 0.7431693989071039\n",
            "              precision    recall  f1-score   support\n",
            "\n",
            "           0       0.93      0.74      0.82      2389\n",
            "           1       0.40      0.77      0.52       539\n",
            "\n",
            "    accuracy                           0.74      2928\n",
            "   macro avg       0.67      0.75      0.67      2928\n",
            "weighted avg       0.83      0.74      0.77      2928\n",
            "\n"
          ],
          "name": "stdout"
        },
        {
          "output_type": "display_data",
          "data": {
            "text/plain": [
              "<Figure size 432x288 with 0 Axes>"
            ]
          },
          "metadata": {
            "tags": []
          }
        },
        {
          "output_type": "display_data",
          "data": {
            "image/png": "[encoded data removed]",
            "text/plain": [
              "<Figure size 432x288 with 1 Axes>"
            ]
          },
          "metadata": {
            "tags": [],
            "needs_background": "light"
          }
        },
        {
          "output_type": "stream",
          "text": [
            "Accuracy of DecisionTreeClassifier is 0.76775956284153\n",
            "              precision    recall  f1-score   support\n",
            "\n",
            "           0       0.81      0.83      0.82      1859\n",
            "           1       0.69      0.67      0.68      1069\n",
            "\n",
            "    accuracy                           0.77      2928\n",
            "   macro avg       0.75      0.75      0.75      2928\n",
            "weighted avg       0.77      0.77      0.77      2928\n",
            "\n"
          ],
          "name": "stdout"
        },
        {
          "output_type": "display_data",
          "data": {
            "text/plain": [
              "<Figure size 432x288 with 0 Axes>"
            ]
          },
          "metadata": {
            "tags": []
          }
        },
        {
          "output_type": "display_data",
          "data": {
            "image/png": "[encoded data removed]",
            "text/plain": [
              "<Figure size 432x288 with 1 Axes>"
            ]
          },
          "metadata": {
            "tags": [],
            "needs_background": "light"
          }
        },
        {
          "output_type": "stream",
          "text": [
            "Accuracy of RandomForestClassifier is 0.8220628415300546\n",
            "              precision    recall  f1-score   support\n",
            "\n",
            "           0       0.89      0.84      0.87      1994\n",
            "           1       0.70      0.78      0.74       934\n",
            "\n",
            "    accuracy                           0.82      2928\n",
            "   macro avg       0.79      0.81      0.80      2928\n",
            "weighted avg       0.83      0.82      0.82      2928\n",
            "\n"
          ],
          "name": "stdout"
        },
        {
          "output_type": "display_data",
          "data": {
            "text/plain": [
              "<Figure size 432x288 with 0 Axes>"
            ]
          },
          "metadata": {
            "tags": []
          }
        },
        {
          "output_type": "display_data",
          "data": {
            "image/png": "[encoded data removed]",
            "text/plain": [
              "<Figure size 432x288 with 1 Axes>"
            ]
          },
          "metadata": {
            "tags": [],
            "needs_background": "light"
          }
        },
        {
          "output_type": "stream",
          "text": [
            "Accuracy of GradientBoostingClassifier is 0.7735655737704918\n",
            "              precision    recall  f1-score   support\n",
            "\n",
            "           0       0.91      0.78      0.84      2216\n",
            "           1       0.52      0.76      0.62       712\n",
            "\n",
            "    accuracy                           0.77      2928\n",
            "   macro avg       0.72      0.77      0.73      2928\n",
            "weighted avg       0.82      0.77      0.79      2928\n",
            "\n"
          ],
          "name": "stdout"
        },
        {
          "output_type": "display_data",
          "data": {
            "text/plain": [
              "<Figure size 432x288 with 0 Axes>"
            ]
          },
          "metadata": {
            "tags": []
          }
        },
        {
          "output_type": "display_data",
          "data": {
            "image/png": "[encoded data removed]",
            "text/plain": [
              "<Figure size 432x288 with 1 Axes>"
            ]
          },
          "metadata": {
            "tags": [],
            "needs_background": "light"
          }
        },
        {
          "output_type": "stream",
          "text": [
            "Accuracy of GaussianNB is 0.5850409836065574\n",
            "              precision    recall  f1-score   support\n",
            "\n",
            "           0       0.46      0.82      0.59      1062\n",
            "           1       0.81      0.45      0.58      1866\n",
            "\n",
            "    accuracy                           0.59      2928\n",
            "   macro avg       0.64      0.64      0.59      2928\n",
            "weighted avg       0.68      0.59      0.58      2928\n",
            "\n"
          ],
          "name": "stdout"
        },
        {
          "output_type": "display_data",
          "data": {
            "text/plain": [
              "<Figure size 432x288 with 0 Axes>"
            ]
          },
          "metadata": {
            "tags": []
          }
        },
        {
          "output_type": "display_data",
          "data": {
            "image/png": "[encoded data removed]",
            "text/plain": [
              "<Figure size 432x288 with 1 Axes>"
            ]
          },
          "metadata": {
            "tags": [],
            "needs_background": "light"
          }
        }
      ]
    },
    {
      "cell_type": "code",
      "metadata": {
        "colab": {
          "base_uri": "https://localhost:8080/",
          "height": 436
        },
        "id": "Bt7GCij3Efy2",
        "outputId": "5ac669d6-8944-4584-c875-f3785214e6af"
      },
      "source": [
        "index=list(range(len(Classifiers)))\n",
        "plt.bar(index,Accuracy)\n",
        "plt.xticks(index,Model,rotation=90)\n",
        "plt.ylabel('Accuracy')\n",
        "plt.xlabel('Model')\n",
        "plt.title('Classifier Accuracies')"
      ],
      "execution_count": 71,
      "outputs": [
        {
          "output_type": "execute_result",
          "data": {
            "text/plain": [
              "Text(0.5, 1.0, 'Classifier Accuracies')"
            ]
          },
          "metadata": {
            "tags": []
          },
          "execution_count": 71
        },
        {
          "output_type": "display_data",
          "data": {
            "image/png": "[encoded data removed]",
            "text/plain": [
              "<Figure size 432x288 with 1 Axes>"
            ]
          },
          "metadata": {
            "tags": [],
            "needs_background": "light"
          }
        }
      ]
    },
    {
      "cell_type": "code",
      "metadata": {
        "id": "b8Ax1RcBFkgl"
      },
      "source": [
        ""
      ],
      "execution_count": null,
      "outputs": []
    }
  ]
}